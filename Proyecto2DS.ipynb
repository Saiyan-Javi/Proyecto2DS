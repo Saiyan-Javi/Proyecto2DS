{
 "cells": [
  {
   "cell_type": "markdown",
   "id": "2a5b4495",
   "metadata": {},
   "source": [
    "# Proyecto 2\n",
    "## Data Science, sección 40\n",
    "## Grupo 1\n",
    "Javier Alejandro Ovalle Chiquín, 22103  \n",
    "José Ángel Morales Farfan, 22689  \n",
    "Ricardo Josué Morales Contreras, 22289  \n",
    "Karen Daniela Pineda Ventura 231132"
   ]
  },
  {
   "cell_type": "code",
   "execution_count": null,
   "id": "0b3b6402",
   "metadata": {},
   "outputs": [],
   "source": []
  }
 ],
 "metadata": {
  "language_info": {
   "name": "python"
  }
 },
 "nbformat": 4,
 "nbformat_minor": 5
}
