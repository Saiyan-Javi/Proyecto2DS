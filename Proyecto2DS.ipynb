{
 "cells": [
  {
   "cell_type": "markdown",
   "id": "43cea831",
   "metadata": {},
   "source": [
    "# Proyecto 2\n",
    "## Data Science, sección 40\n",
    "## Grupo 1\n",
    "Javier Alejandro Ovalle Chiquín, 22103  \n",
    "José Ángel Morales Farfan, 22689  \n",
    "Ricardo Josué Morales Contreras, 22289  \n",
    "Karen Daniela Pineda Ventura"
   ]
  },
  {
   "cell_type": "code",
   "execution_count": null,
   "id": "ad28d5fc",
   "metadata": {},
   "outputs": [],
   "source": []
  }
 ],
 "metadata": {
  "language_info": {
   "name": "python"
  }
 },
 "nbformat": 4,
 "nbformat_minor": 5
}
